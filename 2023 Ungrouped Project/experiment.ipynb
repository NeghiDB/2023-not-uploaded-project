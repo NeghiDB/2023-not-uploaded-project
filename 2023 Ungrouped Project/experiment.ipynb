{
 "cells": [
  {
   "cell_type": "code",
   "execution_count": null,
   "metadata": {},
   "outputs": [],
   "source": [
    "import numpy as np\n",
    "import matplotlib.pyplot as plt\n",
    "import pyodbc\n",
    "import django\n",
    "import pyqt\n",
    "\n",
    "plt.axis([0,10,0,1])\n",
    "\n",
    "delay = 1 #seconds\n",
    "for i in range(10):\n",
    "    y=np.random.random()\n",
    "    plt.scatter(i,y)\n",
    "    plt.pause(delay)\n",
    "    plt.show()"
   ]
  }
 ],
 "metadata": {
  "interpreter": {
   "hash": "e04c1514564f220e08f6c7149c7368e7d346e51379f23bd880789ac6c8e2b4e1"
  },
  "kernelspec": {
   "display_name": "Python 3.10.1 64-bit",
   "language": "python",
   "name": "python3"
  },
  "language_info": {
   "codemirror_mode": {
    "name": "ipython",
    "version": 3
   },
   "file_extension": ".py",
   "mimetype": "text/x-python",
   "name": "python",
   "nbconvert_exporter": "python",
   "pygments_lexer": "ipython3",
   "version": "3.10.1"
  },
  "orig_nbformat": 4
 },
 "nbformat": 4,
 "nbformat_minor": 2
}
